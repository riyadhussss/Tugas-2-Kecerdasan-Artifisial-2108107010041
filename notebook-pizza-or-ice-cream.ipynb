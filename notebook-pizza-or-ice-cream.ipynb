{
 "cells": [
  {
   "cell_type": "code",
   "execution_count": 3,
   "metadata": {},
   "outputs": [
    {
     "name": "stdout",
     "output_type": "stream",
     "text": [
      "WARNING:tensorflow:From c:\\Users\\ASUS\\OneDrive\\Documents\\Kuliah\\Semester 5\\AI\\Tugas2\\tugasAI\\Lib\\site-packages\\keras\\src\\losses.py:2976: The name tf.losses.sparse_softmax_cross_entropy is deprecated. Please use tf.compat.v1.losses.sparse_softmax_cross_entropy instead.\n",
      "\n"
     ]
    }
   ],
   "source": [
    "import tensorflow as tf\n",
    "from keras.preprocessing.image import ImageDataGenerator\n",
    "from keras.optimizers import Adam\n",
    "from PIL import Image\n",
    "from matplotlib import pyplot as plt\n",
    "import datetime\n",
    "from tensorflow.keras.callbacks import TensorBoard"
   ]
  },
  {
   "cell_type": "code",
   "execution_count": 2,
   "metadata": {},
   "outputs": [],
   "source": [
    "# Menentukan folder untuk menyimpan log TensorBoard\n",
    "log_dir = \"logs/fit/\" + datetime.datetime.now().strftime(\"%Y%m%d-%H%M%S\")\n",
    "\n",
    "# Membuat callback TensorBoard\n",
    "tensorboard_callback = TensorBoard(log_dir=log_dir, histogram_freq=1)"
   ]
  },
  {
   "cell_type": "markdown",
   "metadata": {},
   "source": [
    "# PREPROCESSING DATA"
   ]
  },
  {
   "cell_type": "code",
   "execution_count": 4,
   "metadata": {},
   "outputs": [],
   "source": [
    "# Membuat class myCallback untuk menghentikan training ketika akurasi sudah mencapai 86% dan val_acc sudah mencapai 86%\n",
    "class myCallback(tf.keras.callbacks.Callback):\n",
    "    def on_epoch_end(self, epoch, logs={}):\n",
    "        if logs.get('acc') > 0.84 and logs.get('val_acc') > 0.84:\n",
    "            print(\"\\nAkurasi telah mencapai >86%!\")\n",
    "            self.model.stop_training = True"
   ]
  },
  {
   "cell_type": "code",
   "execution_count": 5,
   "metadata": {},
   "outputs": [
    {
     "name": "stdout",
     "output_type": "stream",
     "text": [
      "Found 718 images belonging to 2 classes.\n",
      "Found 208 images belonging to 2 classes.\n"
     ]
    }
   ],
   "source": [
    "TRAINING_DIR = './data/train'\n",
    "train_datagen = ImageDataGenerator(rescale=1.0/255.0)  # Normalize pixel values between 0 and 1\n",
    "\n",
    "# Load training data\n",
    "train_generator = train_datagen.flow_from_directory(\n",
    "    TRAINING_DIR,\n",
    "    target_size=(150, 150),  # Resize images to 150x150\n",
    "    batch_size=128, # 128 images per batch \n",
    "    class_mode='binary' # binary labels\n",
    "    )\n",
    "\n",
    "        \n",
    "VALIDATION_DIR = './data/valid'\n",
    "validation_datagen = ImageDataGenerator(rescale=1.0/255.0)  # Normalize pixel values between 0 and 1\n",
    "\n",
    "# Load validation data\n",
    "validation_generator = validation_datagen.flow_from_directory(\n",
    "VALIDATION_DIR,\n",
    "target_size=(150, 150),  # Resize images to 150x150\n",
    "batch_size=32,\n",
    "class_mode='binary')"
   ]
  },
  {
   "cell_type": "markdown",
   "metadata": {},
   "source": [
    "# DEFINE MODEL"
   ]
  },
  {
   "cell_type": "code",
   "execution_count": 6,
   "metadata": {},
   "outputs": [
    {
     "name": "stdout",
     "output_type": "stream",
     "text": [
      "WARNING:tensorflow:From c:\\Users\\ASUS\\OneDrive\\Documents\\Kuliah\\Semester 5\\AI\\Tugas2\\tugasAI\\Lib\\site-packages\\keras\\src\\backend.py:873: The name tf.get_default_graph is deprecated. Please use tf.compat.v1.get_default_graph instead.\n",
      "\n",
      "WARNING:tensorflow:From c:\\Users\\ASUS\\OneDrive\\Documents\\Kuliah\\Semester 5\\AI\\Tugas2\\tugasAI\\Lib\\site-packages\\keras\\src\\layers\\pooling\\max_pooling2d.py:161: The name tf.nn.max_pool is deprecated. Please use tf.nn.max_pool2d instead.\n",
      "\n",
      "Jumlah Fitur: 67500\n",
      "Jumlah Label: 2\n"
     ]
    }
   ],
   "source": [
    "# Model Definition\n",
    "model = tf.keras.models.Sequential([\n",
    "    # Convolution layer\n",
    "    tf.keras.layers.Conv2D(64, (3, 3), activation='relu', input_shape=(150, 150, 3)),\n",
    "    tf.keras.layers.MaxPooling2D(2, 2),\n",
    "    tf.keras.layers.Conv2D(16, (3, 3), activation='relu'),\n",
    "    tf.keras.layers.MaxPooling2D(2, 2),\n",
    "    # Flatten layer\n",
    "    tf.keras.layers.Flatten(),\n",
    "    tf.keras.layers.Dense(64, activation='relu'),\n",
    "    # Output layer\n",
    "    tf.keras.layers.Dense(1, activation='sigmoid')\n",
    "])\n",
    "\n",
    "# Counting Features and Labels\n",
    "input_shape = (150, 150, 3)\n",
    "jumlah_fitur = input_shape[0] * input_shape[1] * input_shape[2]\n",
    "jumlah_label = 2\n",
    "\n",
    "print(\"Jumlah Fitur:\", jumlah_fitur)\n",
    "print(\"Jumlah Label:\", jumlah_label)"
   ]
  },
  {
   "cell_type": "code",
   "execution_count": 7,
   "metadata": {},
   "outputs": [
    {
     "name": "stdout",
     "output_type": "stream",
     "text": [
      "Model: \"sequential\"\n",
      "_________________________________________________________________\n",
      " Layer (type)                Output Shape              Param #   \n",
      "=================================================================\n",
      " conv2d (Conv2D)             (None, 148, 148, 64)      1792      \n",
      "                                                                 \n",
      " max_pooling2d (MaxPooling2  (None, 74, 74, 64)        0         \n",
      " D)                                                              \n",
      "                                                                 \n",
      " conv2d_1 (Conv2D)           (None, 72, 72, 16)        9232      \n",
      "                                                                 \n",
      " max_pooling2d_1 (MaxPoolin  (None, 36, 36, 16)        0         \n",
      " g2D)                                                            \n",
      "                                                                 \n",
      " flatten (Flatten)           (None, 20736)             0         \n",
      "                                                                 \n",
      " dense (Dense)               (None, 64)                1327168   \n",
      "                                                                 \n",
      " dense_1 (Dense)             (None, 1)                 65        \n",
      "                                                                 \n",
      "=================================================================\n",
      "Total params: 1338257 (5.11 MB)\n",
      "Trainable params: 1338257 (5.11 MB)\n",
      "Non-trainable params: 0 (0.00 Byte)\n",
      "_________________________________________________________________\n"
     ]
    }
   ],
   "source": [
    "# lihat arsitektur model\n",
    "model.summary()"
   ]
  },
  {
   "cell_type": "markdown",
   "metadata": {},
   "source": [
    "# COMPILE A MODEL"
   ]
  },
  {
   "cell_type": "code",
   "execution_count": 7,
   "metadata": {},
   "outputs": [
    {
     "name": "stdout",
     "output_type": "stream",
     "text": [
      "WARNING:tensorflow:From c:\\Users\\ASUS\\OneDrive\\Documents\\Kuliah\\Semester 5\\AI\\Tugas2\\tugasAI\\Lib\\site-packages\\keras\\src\\optimizers\\__init__.py:309: The name tf.train.Optimizer is deprecated. Please use tf.compat.v1.train.Optimizer instead.\n",
      "\n",
      "Epoch 1/20\n",
      "WARNING:tensorflow:From c:\\Users\\ASUS\\OneDrive\\Documents\\Kuliah\\Semester 5\\AI\\Tugas2\\tugasAI\\Lib\\site-packages\\keras\\src\\utils\\tf_utils.py:492: The name tf.ragged.RaggedTensorValue is deprecated. Please use tf.compat.v1.ragged.RaggedTensorValue instead.\n",
      "\n",
      "WARNING:tensorflow:From c:\\Users\\ASUS\\OneDrive\\Documents\\Kuliah\\Semester 5\\AI\\Tugas2\\tugasAI\\Lib\\site-packages\\keras\\src\\engine\\base_layer_utils.py:384: The name tf.executing_eagerly_outside_functions is deprecated. Please use tf.compat.v1.executing_eagerly_outside_functions instead.\n",
      "\n",
      "6/6 [==============================] - 11s 1s/step - loss: 0.8936 - acc: 0.5390 - val_loss: 0.6533 - val_acc: 0.5817\n",
      "Epoch 2/20\n",
      "6/6 [==============================] - 6s 1s/step - loss: 0.6058 - acc: 0.6978 - val_loss: 0.5208 - val_acc: 0.7452\n",
      "Epoch 3/20\n",
      "6/6 [==============================] - 6s 1s/step - loss: 0.5518 - acc: 0.7187 - val_loss: 0.4726 - val_acc: 0.7740\n",
      "Epoch 4/20\n",
      "6/6 [==============================] - 6s 1s/step - loss: 0.4880 - acc: 0.7702 - val_loss: 0.4494 - val_acc: 0.8029\n",
      "Epoch 5/20\n",
      "6/6 [==============================] - 6s 1s/step - loss: 0.4016 - acc: 0.8301 - val_loss: 0.5148 - val_acc: 0.7788\n",
      "Epoch 6/20\n",
      "6/6 [==============================] - 7s 1s/step - loss: 0.3892 - acc: 0.8370 - val_loss: 0.4525 - val_acc: 0.7981\n",
      "Epoch 7/20\n",
      "6/6 [==============================] - 8s 1s/step - loss: 0.3724 - acc: 0.8384 - val_loss: 0.3555 - val_acc: 0.8510\n",
      "Epoch 8/20\n",
      "6/6 [==============================] - 6s 1s/step - loss: 0.3496 - acc: 0.8468 - val_loss: 0.3092 - val_acc: 0.8702\n",
      "Epoch 9/20\n",
      "6/6 [==============================] - 6s 1s/step - loss: 0.3010 - acc: 0.8705 - val_loss: 0.3260 - val_acc: 0.8654\n",
      "Epoch 10/20\n",
      "6/6 [==============================] - 6s 990ms/step - loss: 0.2957 - acc: 0.8705 - val_loss: 0.3307 - val_acc: 0.8750\n",
      "Epoch 11/20\n",
      "6/6 [==============================] - 6s 982ms/step - loss: 0.2645 - acc: 0.8928 - val_loss: 0.2590 - val_acc: 0.8846\n",
      "Epoch 12/20\n",
      "6/6 [==============================] - 6s 988ms/step - loss: 0.2380 - acc: 0.9039 - val_loss: 0.2425 - val_acc: 0.8942\n",
      "Epoch 13/20\n",
      "6/6 [==============================] - 6s 1s/step - loss: 0.2092 - acc: 0.9095 - val_loss: 0.2435 - val_acc: 0.9087\n",
      "Epoch 14/20\n",
      "6/6 [==============================] - 6s 1s/step - loss: 0.1805 - acc: 0.9276 - val_loss: 0.2576 - val_acc: 0.8798\n",
      "Epoch 15/20\n",
      "6/6 [==============================] - 6s 1s/step - loss: 0.1633 - acc: 0.9401 - val_loss: 0.2482 - val_acc: 0.8990\n",
      "Epoch 16/20\n",
      "6/6 [==============================] - 6s 1s/step - loss: 0.1426 - acc: 0.9526 - val_loss: 0.2318 - val_acc: 0.8894\n",
      "Epoch 17/20\n",
      "6/6 [==============================] - 6s 1s/step - loss: 0.1290 - acc: 0.9680 - val_loss: 0.2314 - val_acc: 0.8990\n",
      "Epoch 18/20\n",
      "6/6 [==============================] - 6s 1s/step - loss: 0.1091 - acc: 0.9638 - val_loss: 0.2418 - val_acc: 0.9038\n",
      "Epoch 19/20\n",
      "6/6 [==============================] - 6s 1s/step - loss: 0.0898 - acc: 0.9777 - val_loss: 0.2256 - val_acc: 0.8990\n",
      "Epoch 20/20\n",
      "6/6 [==============================] - 6s 1s/step - loss: 0.0795 - acc: 0.9708 - val_loss: 0.2465 - val_acc: 0.9038\n"
     ]
    }
   ],
   "source": [
    "# Compile a Model\n",
    "\n",
    "\"\"\"\n",
    "Kasus yang dihadapi disini adalah binary class jadi kita harus menggunakan loss function yang bernama binary crossentropy\n",
    "\n",
    "\"\"\"\n",
    "model.compile(\n",
    "    loss='binary_crossentropy',\n",
    "    optimizer='Adam',\n",
    "    metrics=['acc']\n",
    "   \n",
    ")\n",
    "\n",
    "# Train the model\n",
    "\n",
    "callbacks = myCallback()\n",
    "\n",
    "history = model.fit(\n",
    "    train_generator,\n",
    "    epochs=20,\n",
    "    verbose=1,\n",
    "    validation_data=validation_generator,\n",
    "    callbacks=[tensorboard_callback]\n",
    ")"
   ]
  },
  {
   "cell_type": "markdown",
   "metadata": {},
   "source": [
    "# PERFORMING ERROR ANALYSIS"
   ]
  },
  {
   "cell_type": "code",
   "execution_count": 8,
   "metadata": {},
   "outputs": [
    {
     "data": {
      "text/plain": [
       "<Figure size 640x480 with 0 Axes>"
      ]
     },
     "execution_count": 8,
     "metadata": {},
     "output_type": "execute_result"
    },
    {
     "data": {
      "image/png": "[encoded data removed]",
      "text/plain": [
       "<Figure size 640x480 with 1 Axes>"
      ]
     },
     "metadata": {},
     "output_type": "display_data"
    },
    {
     "data": {
      "text/plain": [
       "<Figure size 640x480 with 0 Axes>"
      ]
     },
     "metadata": {},
     "output_type": "display_data"
    }
   ],
   "source": [
    "import matplotlib.pyplot as plt\n",
    "\n",
    "# Retrieve a list of list results on training and test data sets for each training epoch\n",
    "\n",
    "acc = history.history['acc']\n",
    "val_acc = history.history['val_acc']\n",
    "\n",
    "loss = history.history['loss']\n",
    "val_loss = history.history['val_loss']\n",
    "\n",
    "\n",
    "# Plot training and validation accuracy per epoch\n",
    "\n",
    "plt.plot(acc)\n",
    "plt.plot(val_acc)\n",
    "plt.title('Training and validation accuracy')\n",
    "plt.ylabel('accuracy')\n",
    "plt.xlabel('epoch')\n",
    "plt.legend(['train', 'val'], loc='upper left')\n",
    "plt.figure()"
   ]
  },
  {
   "cell_type": "code",
   "execution_count": 8,
   "metadata": {},
   "outputs": [
    {
     "name": "stdout",
     "output_type": "stream",
     "text": [
      "WARNING:tensorflow:Compiled the loaded model, but the compiled metrics have yet to be built. `model.compile_metrics` will be empty until you train or evaluate the model.\n"
     ]
    },
    {
     "name": "stderr",
     "output_type": "stream",
     "text": [
      "c:\\Users\\ASUS\\OneDrive\\Documents\\Kuliah\\Semester 5\\AI\\Tugas2\\tugasAI\\Lib\\site-packages\\keras\\src\\engine\\training.py:3103: UserWarning: You are saving your model as an HDF5 file via `model.save()`. This file format is considered legacy. We recommend using instead the native Keras format, e.g. `model.save('my_model.keras')`.\n",
      "  saving_api.save_model(\n"
     ]
    }
   ],
   "source": [
    "# save model\n",
    "\n",
    "model.save(\"icecreamorpizza.h5\")"
   ]
  },
  {
   "cell_type": "markdown",
   "metadata": {},
   "source": [
    "# INFERENCE"
   ]
  },
  {
   "cell_type": "code",
   "execution_count": 23,
   "metadata": {},
   "outputs": [
    {
     "name": "stdout",
     "output_type": "stream",
     "text": [
      "1/1 [==============================] - 0s 30ms/step\n",
      "The image is predicted as a pizza\n"
     ]
    }
   ],
   "source": [
    "# Function to predict the class of the uploaded image\n",
    "from keras.preprocessing import image\n",
    "import numpy as np\n",
    "\n",
    "def predict_image_class(image_path):\n",
    "    img = image.load_img(image_path, target_size=(150, 150))\n",
    "    x = image.img_to_array(img)\n",
    "    x = np.expand_dims(x, axis=0)\n",
    "    classes = model.predict(x)\n",
    "    return classes[0][0]\n",
    "\n",
    "# Upload an image from your local system\n",
    "def upload_and_predict():\n",
    "    image_path = input(\"Enter the file path of the image: \")\n",
    "    confidence = predict_image_class(image_path)\n",
    "    if confidence > 0.5:\n",
    "        print(f\"The image is predicted as a pizza\")\n",
    "    else:\n",
    "        print(f\"The image is predicted as a ice cream\")\n",
    "\n",
    "# Perform the image upload and prediction\n",
    "upload_and_predict()"
   ]
  },
  {
   "cell_type": "code",
   "execution_count": 15,
   "metadata": {},
   "outputs": [
    {
     "name": "stdout",
     "output_type": "stream",
     "text": [
      "The tensorboard extension is already loaded. To reload it, use:\n",
      "  %reload_ext tensorboard\n"
     ]
    },
    {
     "data": {
      "text/plain": [
       "Reusing TensorBoard on port 6010 (pid 20504), started 0:00:09 ago. (Use '!kill 20504' to kill it.)"
      ]
     },
     "metadata": {},
     "output_type": "display_data"
    },
    {
     "data": {
      "text/html": [
       "\n",
       "      <iframe id=\"tensorboard-frame-42df5de268fd7eeb\" width=\"100%\" height=\"800\" frameborder=\"0\">\n",
       "      </iframe>\n",
       "      <script>\n",
       "        (function() {\n",
       "          const frame = document.getElementById(\"tensorboard-frame-42df5de268fd7eeb\");\n",
       "          const url = new URL(\"http://localhost\");\n",
       "          const port = 6010;\n",
       "          if (port) {\n",
       "            url.port = port;\n",
       "          }\n",
       "          frame.src = url;\n",
       "        })();\n",
       "      </script>\n",
       "    "
      ],
      "text/plain": [
       "<IPython.core.display.HTML object>"
      ]
     },
     "metadata": {},
     "output_type": "display_data"
    }
   ],
   "source": [
    "%load_ext tensorboard\n",
    "%tensorboard --logdir=./logs/fit/20231126-200821"
   ]
  }
 ],
 "metadata": {
  "kernelspec": {
   "display_name": "Python 3.8.17 ('prakai': venv)",
   "language": "python",
   "name": "python3"
  },
  "language_info": {
   "codemirror_mode": {
    "name": "ipython",
    "version": 3
   },
   "file_extension": ".py",
   "mimetype": "text/x-python",
   "name": "python",
   "nbconvert_exporter": "python",
   "pygments_lexer": "ipython3",
   "version": "3.11.0"
  },
  "orig_nbformat": 4,
  "vscode": {
   "interpreter": {
    "hash": "0ce94fa62ffa6cf5f0cb7e823a14e5eebd144f70edb1675dafb56ecaa681c4e8"
   }
  }
 },
 "nbformat": 4,
 "nbformat_minor": 2
}
